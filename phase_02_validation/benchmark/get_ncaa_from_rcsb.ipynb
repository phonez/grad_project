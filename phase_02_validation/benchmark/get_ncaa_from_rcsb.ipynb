{
 "metadata": {
  "language_info": {
   "codemirror_mode": {
    "name": "ipython",
    "version": 3
   },
   "file_extension": ".py",
   "mimetype": "text/x-python",
   "name": "python",
   "nbconvert_exporter": "python",
   "pygments_lexer": "ipython3",
   "version": "3.6.13-final"
  },
  "orig_nbformat": 2,
  "kernelspec": {
   "name": "python3613jvsc74a57bd05e92b11f585824c47f4c131bdd2d5cb379cf447c511d506dffea9fa3190dca51",
   "display_name": "Python 3.6.13 64-bit ('base': conda)"
  }
 },
 "nbformat": 4,
 "nbformat_minor": 2,
 "cells": [
  {
   "cell_type": "code",
   "execution_count": 1,
   "metadata": {},
   "outputs": [
    {
     "output_type": "execute_result",
     "data": {
      "text/plain": [
       "'\\nimport os\\npdb_ncaa = []\\nwith open(\"/home/zhangf/grad_project/phase_02_validation/benchmark/ncaa-containing_protein.csv\", \"r\") as f:\\n    lines = f.readlines()\\n    for line in lines:\\n        (pdb, ncaa_entry, ncaa_info) = (line.split(\\',\\')[0], line.split(\\',\\')[1].strip(), {})\\n        pdb_ncaa.append((pdb, ncaa_entry, ncaa_info))\\n'"
      ]
     },
     "metadata": {},
     "execution_count": 1
    }
   ],
   "source": [
    "# Read pdb_entry, ncaa_entry from ncaa-containing_protein.csv\n",
    "'''\n",
    "import os\n",
    "pdb_ncaa = []\n",
    "with open(\"/home/zhangf/grad_project/phase_02_validation/benchmark/ncaa-containing_protein.csv\", \"r\") as f:\n",
    "    lines = f.readlines()\n",
    "    for line in lines:\n",
    "        (pdb, ncaa_entry, ncaa_info) = (line.split(',')[0], line.split(',')[1].strip(), {})\n",
    "        pdb_ncaa.append((pdb, ncaa_entry, ncaa_info))\n",
    "'''"
   ]
  },
  {
   "cell_type": "code",
   "execution_count": 2,
   "metadata": {},
   "outputs": [
    {
     "output_type": "execute_result",
     "data": {
      "text/plain": [
       "'\\nfrom requests_html import HTMLSession\\nsession = HTMLSession()\\nfor pdb, ncaa_entry, ncaa_info in pdb_ncaa:\\n    url = \"http://www.rcsb.org/ligand/\" + ncaa_entry\\n    r = session.get(url)\\n    result = r.html.find(\"#maincontentcontainer > div:nth-child(3)\")\\n    chem_info = result[0].text.splitlines()\\n\\n    next_item_index = 0\\n    for index, item in enumerate(chem_info):\\n        if item == \"Chemical Component Summary\" or item == \\'Chemical Details\\':\\n            next_item_index = next_item_index + 1\\n        elif index == next_item_index:\\n            ncaa_info[chem_info[index]] = chem_info[index + 1]\\n            next_item_index = next_item_index + 2\\n        else:\\n            continue\\n'"
      ]
     },
     "metadata": {},
     "execution_count": 2
    }
   ],
   "source": [
    "# Extract ncaa info from www.rcsb.org\n",
    "'''\n",
    "from requests_html import HTMLSession\n",
    "session = HTMLSession()\n",
    "for pdb, ncaa_entry, ncaa_info in pdb_ncaa:\n",
    "    url = \"http://www.rcsb.org/ligand/\" + ncaa_entry\n",
    "    r = session.get(url)\n",
    "    result = r.html.find(\"#maincontentcontainer > div:nth-child(3)\")\n",
    "    chem_info = result[0].text.splitlines()\n",
    "\n",
    "    next_item_index = 0\n",
    "    for index, item in enumerate(chem_info):\n",
    "        if item == \"Chemical Component Summary\" or item == 'Chemical Details':\n",
    "            next_item_index = next_item_index + 1\n",
    "        elif index == next_item_index:\n",
    "            ncaa_info[chem_info[index]] = chem_info[index + 1]\n",
    "            next_item_index = next_item_index + 2\n",
    "        else:\n",
    "            continue\n",
    "'''"
   ]
  },
  {
   "cell_type": "code",
   "execution_count": 3,
   "metadata": {},
   "outputs": [
    {
     "output_type": "execute_result",
     "data": {
      "text/plain": [
       "'\\nimport os\\nimport pandas as pd\\nfrom rdkit import Chem\\n\\npdb_ncaa = pd.read_csv(\"/home/zhangf/grad_project/phase_02_validation/benchmark/ncaa_info.csv\")\\npdb_ncaa = pdb_ncaa.values.tolist()\\nfor item in pdb_ncaa:\\n    item[2] = eval(item[2])\\n    item = tuple(item)\\n\\nmols = []\\nfor pdb, ncaa_entry, ncaa_info in pdb_ncaa:\\n    mol = Chem.MolFromSmiles(ncaa_info[\\'Isomeric SMILES\\'])\\n    mols.append((mol, pdb + \", \" + ncaa_entry))\\n'"
      ]
     },
     "metadata": {},
     "execution_count": 3
    }
   ],
   "source": [
    "# read ncaa_info.csv and get mol from smile\n",
    "'''\n",
    "import os\n",
    "import pandas as pd\n",
    "from rdkit import Chem\n",
    "\n",
    "pdb_ncaa = pd.read_csv(\"/home/zhangf/grad_project/phase_02_validation/benchmark/ncaa_info.csv\")\n",
    "pdb_ncaa = pdb_ncaa.values.tolist()\n",
    "for item in pdb_ncaa:\n",
    "    item[2] = eval(item[2])\n",
    "    item = tuple(item)\n",
    "\n",
    "mols = []\n",
    "for pdb, ncaa_entry, ncaa_info in pdb_ncaa:\n",
    "    mol = Chem.MolFromSmiles(ncaa_info['Isomeric SMILES'])\n",
    "    mols.append((mol, pdb + \", \" + ncaa_entry))\n",
    "'''\n",
    "# img = Draw.MolsToGridImage([x[0] for x in mols], molsPerRow=3, subImgSize=(300,300), legends=[x[1] for x in mols], returnPNG=False, maxMols=100)\n",
    "# img.save(\"./ncaa_in_protein_benchmark.png\")"
   ]
  },
  {
   "cell_type": "code",
   "execution_count": 4,
   "metadata": {},
   "outputs": [
    {
     "output_type": "execute_result",
     "data": {
      "text/plain": [
       "'\\nfrom rdkit.Chem import Draw\\nfrom rdkit.Chem import AllChem\\n\\nmodified_ncaa_mols = []\\n\\ndipep_bb_mol = Chem.MolFromSmarts(\"CC(=O)NCC(=O)NC\")\\nnme_mol = Chem.MolFromSmiles(\"C(=O)NC\")\\nace_mol = Chem.MolFromSmiles(\"NC(=O)C\")\\namino_mol = Chem.MolFromSmarts(\"N\")\\nacid_mol = Chem.MolFromSmarts(\"C(=O)O\")\\n\\nfor pdb, ncaa_entry, ncaa_info in pdb_ncaa:\\n    ncaa_mol = Chem.MolFromSmiles(ncaa_info[\\'Isomeric SMILES\\'])\\n    add_nme_mols = AllChem.ReplaceSubstructs(ncaa_mol, acid_mol, nme_mol, useChirality=True)\\n    for mol_1 in add_nme_mols:\\n        add_ace_mols = AllChem.ReplaceSubstructs(mol_1, amino_mol, ace_mol, useChirality=True)  \\n        for mol_2 in add_ace_mols:\\n            if mol_2.HasSubstructMatch(dipep_bb_mol):\\n                Chem.SanitizeMol(mol_2)\\n                modified_ncaa_mols.append([mol_2, ncaa_entry])\\n\\n### for check, and this script is not compatible with [PCA] and [GSH] ###\\n# image = Draw.MolsToGridImage([x[0] for x in modified_ncaa_mols], molsPerRow=3, subImgSize=(300,300), legends=[x[1] for x in modified_ncaa_mols], returnPNG=False, maxMols=100)\\n# image\\n'"
      ]
     },
     "metadata": {},
     "execution_count": 4
    }
   ],
   "source": [
    "# add ace and nme to generate dipeptide \n",
    "'''\n",
    "from rdkit.Chem import Draw\n",
    "from rdkit.Chem import AllChem\n",
    "\n",
    "modified_ncaa_mols = []\n",
    "\n",
    "dipep_bb_mol = Chem.MolFromSmarts(\"CC(=O)NCC(=O)NC\")\n",
    "nme_mol = Chem.MolFromSmiles(\"C(=O)NC\")\n",
    "ace_mol = Chem.MolFromSmiles(\"NC(=O)C\")\n",
    "amino_mol = Chem.MolFromSmarts(\"N\")\n",
    "acid_mol = Chem.MolFromSmarts(\"C(=O)O\")\n",
    "\n",
    "for pdb, ncaa_entry, ncaa_info in pdb_ncaa:\n",
    "    ncaa_mol = Chem.MolFromSmiles(ncaa_info['Isomeric SMILES'])\n",
    "    add_nme_mols = AllChem.ReplaceSubstructs(ncaa_mol, acid_mol, nme_mol, useChirality=True)\n",
    "    for mol_1 in add_nme_mols:\n",
    "        add_ace_mols = AllChem.ReplaceSubstructs(mol_1, amino_mol, ace_mol, useChirality=True)  \n",
    "        for mol_2 in add_ace_mols:\n",
    "            if mol_2.HasSubstructMatch(dipep_bb_mol):\n",
    "                Chem.SanitizeMol(mol_2)\n",
    "                modified_ncaa_mols.append([mol_2, ncaa_entry])\n",
    "\n",
    "### for check, and this script is not compatible with [PCA] and [GSH] ###\n",
    "# image = Draw.MolsToGridImage([x[0] for x in modified_ncaa_mols], molsPerRow=3, subImgSize=(300,300), legends=[x[1] for x in modified_ncaa_mols], returnPNG=False, maxMols=100)\n",
    "# image\n",
    "'''"
   ]
  },
  {
   "cell_type": "code",
   "execution_count": 5,
   "metadata": {},
   "outputs": [
    {
     "output_type": "execute_result",
     "data": {
      "text/plain": [
       "'\\nfor mol, ncaa_entry in modified_ncaa_mols:\\n    mol = Chem.AddHs(mol)\\n    AllChem.EmbedMolecule(mol)\\n    AllChem.EmbedMultipleConfs(mol, numConfs=50)\\n    AllChem.MMFFOptimizeMoleculeConfs(mol, numThreads=0)\\n'"
      ]
     },
     "metadata": {},
     "execution_count": 5
    }
   ],
   "source": [
    "# structure optimization using MMFF force field\n",
    "'''\n",
    "for mol, ncaa_entry in modified_ncaa_mols:\n",
    "    mol = Chem.AddHs(mol)\n",
    "    AllChem.EmbedMolecule(mol)\n",
    "    AllChem.EmbedMultipleConfs(mol, numConfs=50)\n",
    "    AllChem.MMFFOptimizeMoleculeConfs(mol, numThreads=0)\n",
    "'''"
   ]
  },
  {
   "cell_type": "code",
   "execution_count": 6,
   "metadata": {},
   "outputs": [
    {
     "output_type": "execute_result",
     "data": {
      "text/plain": [
       "'\\nmol_path = \"/home/zhangf/grad_project/phase_01_generation_of_database/output/mol/\"\\nfor mol, ncaa_entry in modified_ncaa_mols:\\n    mol = Chem.AddHs(mol)\\n    mol.SetProp(\"_Name\", ncaa_entry)\\n    ncaa_file = mol_path + ncaa_entry + \".mol\"\\n    print(Chem.MolToMolBlock(mol), file=open(ncaa_file, \\'w+\\'))\\n'"
      ]
     },
     "metadata": {},
     "execution_count": 6
    }
   ],
   "source": [
    "# write mol file for each dipeptide \n",
    "'''\n",
    "mol_path = \"/home/zhangf/grad_project/phase_01_generation_of_database/output/mol/\"\n",
    "for mol, ncaa_entry in modified_ncaa_mols:\n",
    "    mol = Chem.AddHs(mol)\n",
    "    mol.SetProp(\"_Name\", ncaa_entry)\n",
    "    ncaa_file = mol_path + ncaa_entry + \".mol\"\n",
    "    print(Chem.MolToMolBlock(mol), file=open(ncaa_file, 'w+'))\n",
    "'''"
   ]
  },
  {
   "cell_type": "code",
   "execution_count": 7,
   "metadata": {},
   "outputs": [
    {
     "output_type": "execute_result",
     "data": {
      "text/plain": [
       "'\\nfrom rdkit import DataStructs\\n\\nncaa_mols = []\\nncaa_set = set()\\nfor pdb, ncaa_entry, ncaa_info in pdb_ncaa:\\n    ncaa_mol = Chem.MolFromSmiles(ncaa_info[\\'Isomeric SMILES\\'])\\n    if ncaa_entry not in ncaa_set:\\n        ncaa_set.add(ncaa_entry)\\n        ncaa_mol.SetProp(\"_Name\", ncaa_entry)\\n        ncaa_mols.append(ncaa_mol)\\n\\nsm = [] # Tanimoto similarity\\nncaa_fps = [Chem.RDKFingerprint(x) for x in ncaa_mols]\\nfor fps_1 in ncaa_fps:\\n    sm_1 = []\\n    for fps_2 in ncaa_fps:\\n        sm_1.append(DataStructs.FingerprintSimilarity(fps_1,fps_2))\\n    sm.append(sm_1)\\n\\nsm_matrix = pd.DataFrame(sm)\\ncolumns = []\\nfor ncaa_mol in ncaa_mols:\\n    columns.append(ncaa_mol.GetProp(\\'_Name\\'))\\nsm_matrix.index = sm_matrix.columns = columns\\n# sm_matrix.to_csv(\\'./ncaa_similarity.csv\\', sep=\\',\\', header=True, index=True)\\n'"
      ]
     },
     "metadata": {},
     "execution_count": 7
    }
   ],
   "source": [
    "# calculate fingerpring similarities of ncaas\n",
    "'''\n",
    "from rdkit import DataStructs\n",
    "\n",
    "ncaa_mols = []\n",
    "ncaa_set = set()\n",
    "for pdb, ncaa_entry, ncaa_info in pdb_ncaa:\n",
    "    ncaa_mol = Chem.MolFromSmiles(ncaa_info['Isomeric SMILES'])\n",
    "    if ncaa_entry not in ncaa_set:\n",
    "        ncaa_set.add(ncaa_entry)\n",
    "        ncaa_mol.SetProp(\"_Name\", ncaa_entry)\n",
    "        ncaa_mols.append(ncaa_mol)\n",
    "\n",
    "sm = [] # Tanimoto similarity\n",
    "ncaa_fps = [Chem.RDKFingerprint(x) for x in ncaa_mols]\n",
    "for fps_1 in ncaa_fps:\n",
    "    sm_1 = []\n",
    "    for fps_2 in ncaa_fps:\n",
    "        sm_1.append(DataStructs.FingerprintSimilarity(fps_1,fps_2))\n",
    "    sm.append(sm_1)\n",
    "\n",
    "sm_matrix = pd.DataFrame(sm)\n",
    "columns = []\n",
    "for ncaa_mol in ncaa_mols:\n",
    "    columns.append(ncaa_mol.GetProp('_Name'))\n",
    "sm_matrix.index = sm_matrix.columns = columns\n",
    "# sm_matrix.to_csv('./ncaa_similarity.csv', sep=',', header=True, index=True)\n",
    "'''"
   ]
  },
  {
   "cell_type": "code",
   "execution_count": null,
   "metadata": {},
   "outputs": [],
   "source": []
  }
 ]
}