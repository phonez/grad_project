{
 "metadata": {
  "language_info": {
   "codemirror_mode": {
    "name": "ipython",
    "version": 3
   },
   "file_extension": ".py",
   "mimetype": "text/x-python",
   "name": "python",
   "nbconvert_exporter": "python",
   "pygments_lexer": "ipython3",
   "version": "3.6.13"
  },
  "orig_nbformat": 2,
  "kernelspec": {
   "name": "python3613jvsc74a57bd05e92b11f585824c47f4c131bdd2d5cb379cf447c511d506dffea9fa3190dca51",
   "display_name": "Python 3.6.13 64-bit ('base': conda)"
  }
 },
 "nbformat": 4,
 "nbformat_minor": 2,
 "cells": [
  {
   "cell_type": "code",
   "execution_count": 2,
   "metadata": {},
   "outputs": [],
   "source": [
    "from pyrosetta import *\n"
   ]
  },
  {
   "cell_type": "code",
   "execution_count": 3,
   "metadata": {},
   "outputs": [
    {
     "output_type": "stream",
     "name": "stdout",
     "text": [
      "PyRosetta-4 2021 [Rosetta PyRosetta4.conda.linux.cxx11thread.serialization.CentOS.python36.Release 2021.11+release.e9f47978df05d6d2de96236c2d949ecf9436018a 2021-03-19T09:06:15] retrieved from: http://www.pyrosetta.org\n",
      "(C) Copyright Rosetta Commons Member Institutions. Created in JHU by Sergey Lyskov and PyRosetta Team.\n",
      "core.init: {0} Checking for fconfig files in pwd and ./rosetta/flags\n",
      "core.init: {0} Rosetta version: PyRosetta4.conda.linux.cxx11thread.serialization.CentOS.python36.Release r276 2021.11+release.e9f4797 e9f47978df05d6d2de96236c2d949ecf9436018a http://www.pyrosetta.org 2021-03-19T09:06:15\n",
      "core.init: {0} command: PyRosetta -ex1 -ex2aro -in:file:extra_res_fa /home/zhangf/grad_project/ncaa_database/params/HLX.params -database /home/zhangf/program/miniconda3/envs/py3.6/lib/python3.6/site-packages/pyrosetta/database\n",
      "basic.random.init_random_generator: {0} 'RNG device' seed mode, using '/dev/urandom', seed=-2023042610 seed_offset=0 real_seed=-2023042610 thread_index=0\n",
      "basic.random.init_random_generator: {0} RandomGenerator:init: Normal mode, seed=-2023042610 RG_type=mt19937\n"
     ]
    }
   ],
   "source": [
    "init(extra_options=\"-in:file:extra_res_fa /home/zhangf/grad_project/ncaa_database/params/HLX.params\")\n"
   ]
  },
  {
   "cell_type": "code",
   "execution_count": 12,
   "metadata": {
    "tags": []
   },
   "outputs": [],
   "source": [
    "in_dir = \"/home/zhangf/grad_project/phase_02_validation/stage_03_optimization/output/complex/output/4JJE_clean_inhibitor_8_relax_\"\n",
    "out_dir = \"./output/peptide/inhibitor_8_relax_\"\n",
    "bash = \"bash extract_peptide.bash \"\n",
    "\n",
    "suffix=\"\"\n",
    "lines=[]\n",
    "\n",
    "for i in range(1, 201):\n",
    "    if i < 10:\n",
    "        suffix=\"000\" + \"%d\"%(i) + \".pdb\"\n",
    "    elif i < 100:\n",
    "        suffix=\"00\" + \"%d\"%(i) + \".pdb\"\n",
    "    else:\n",
    "        suffix=\"0\" + \"%d\"%(i) + \".pdb\"\n",
    "\n",
    "    command = bash + in_dir + suffix + \" >> \" + out_dir + suffix + \"\\n\"\n",
    "    lines.append(command)\n",
    "\n",
    "bash_dir =  \"/home/zhangf/grad_project/phase_02_validation/stage_03_optimization/extract_peptides.bash\"\n",
    "with open(bash_dir, \"w\") as f:\n",
    "    f.writelines(lines)"
   ]
  },
  {
   "cell_type": "code",
   "execution_count": 9,
   "metadata": {},
   "outputs": [],
   "source": [
    "from Bio.PDB import *\n",
    "from Bio import pairwise2"
   ]
  },
  {
   "cell_type": "code",
   "execution_count": 13,
   "metadata": {},
   "outputs": [],
   "source": [
    "p = PDBParser()\n",
    "native_struct = p.get_structure(\"native\", \"/home/zhangf/grad_project/phase_02_validation/stage_03_optimization/input/1A2U/1A2U_mutate.pdb\")\n",
    "native_atoms = native_struct.get_atoms()\n",
    "\n",
    "opt_struct = p.get_structure(\"opt\", \"/home/zhangf/grad_project/phase_02_validation/stage_03_optimization/input/1A2U_mutate_opt_0036_0183.pdb\")\n",
    "opt_atoms = opt_struct.get_atoms()"
   ]
  },
  {
   "cell_type": "code",
   "execution_count": 14,
   "metadata": {},
   "outputs": [
    {
     "output_type": "stream",
     "name": "stdout",
     "text": [
      "1.8531047024693799\n"
     ]
    }
   ],
   "source": [
    "from Bio.SVDSuperimposer import SVDSuperimposer\n",
    "sup = Superimposer()\n",
    "sup.set_atoms(list(native_atoms), list(opt_atoms))\n",
    "print(sup.rms)"
   ]
  },
  {
   "cell_type": "code",
   "execution_count": null,
   "metadata": {},
   "outputs": [],
   "source": []
  }
 ]
}