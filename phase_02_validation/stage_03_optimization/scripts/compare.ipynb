{
 "metadata": {
  "language_info": {
   "codemirror_mode": {
    "name": "ipython",
    "version": 3
   },
   "file_extension": ".py",
   "mimetype": "text/x-python",
   "name": "python",
   "nbconvert_exporter": "python",
   "pygments_lexer": "ipython3",
   "version": "3.6.13"
  },
  "orig_nbformat": 2,
  "kernelspec": {
   "name": "python3613jvsc74a57bd05e92b11f585824c47f4c131bdd2d5cb379cf447c511d506dffea9fa3190dca51",
   "display_name": "Python 3.6.13 64-bit ('base': conda)"
  }
 },
 "nbformat": 4,
 "nbformat_minor": 2,
 "cells": [
  {
   "cell_type": "code",
   "execution_count": 1,
   "metadata": {},
   "outputs": [],
   "source": [
    "import calc_chi_angles as my"
   ]
  },
  {
   "cell_type": "code",
   "execution_count": 2,
   "metadata": {},
   "outputs": [],
   "source": [
    "pdb = [\"1A3U\",\"4IWW\",\"5CI0\",\"6SQC\",\"3G3P\",\"6BCY\",\"6V5T\",\"4XS7\",\"5TEG\",\"5OGL\"]\n",
    "ncaa = [\"C6C\",\"BP5\",\"F2Y\",\"2ML\",\"NLE\",\"TPO\",\"FTR\",\"OAS\",\"NLE\",\"PPN\"]\n",
    "num = [45,50,3,21,43,2,5,3,14,14]\n",
    "cutoff = 20"
   ]
  },
  {
   "cell_type": "code",
   "execution_count": 3,
   "metadata": {},
   "outputs": [],
   "source": [
    "def calc_delta_angle(angle1, angle2):\n",
    "    delta = abs(angle1 - angle2)\n",
    "    if delta > 180:\n",
    "        delta = 360 - delta\n",
    "    return delta"
   ]
  },
  {
   "cell_type": "code",
   "execution_count": 4,
   "metadata": {},
   "outputs": [
    {
     "output_type": "stream",
     "name": "stdout",
     "text": [
      "After optimization, chi angles in each ncaa are: [[-77.23, 157.64, -155.97]]\n",
      "After optimization, chi angles in each ncaa are: [[93.38, 143.82, -18.15]]\n",
      "After optimization, chi angles in each ncaa are: [[94.23, 143.13, -18.95]]\n",
      "After optimization, chi angles in each ncaa are: [[93.87, 141.78, -19.29]]\n",
      "After optimization, chi angles in each ncaa are: [[93.81, 141.67, -18.98]]\n",
      "After optimization, chi angles in each ncaa are: [[90.37, 145.63, -26.36]]\n",
      "After optimization, chi angles in each ncaa are: [[95.82, 143.22, -12.33]]\n",
      "After optimization, chi angles in each ncaa are: [[95.58, 143.04, -12.59]]\n",
      "After optimization, chi angles in each ncaa are: [[92.83, 143.55, -18.26]]\n",
      "After optimization, chi angles in each ncaa are: [[95.41, 143.35, -12.38]]\n",
      "After optimization, chi angles in each ncaa are: [[94.52, 142.68, -18.51]]\n",
      "After optimization, chi angles in each ncaa are: [[93.13, 143.29, -18.91]]\n",
      "After optimization, chi angles in each ncaa are: [[95.68, 143.09, -12.49]]\n",
      "After optimization, chi angles in each ncaa are: [[94.03, 143.27, -18.83]]\n",
      "After optimization, chi angles in each ncaa are: [[-97.55, -177.42, 100.95]]\n",
      "After optimization, chi angles in each ncaa are: [[94.48, 144.42, -16.58]]\n",
      "After optimization, chi angles in each ncaa are: [[95.85, 142.6, -13.09]]\n",
      "After optimization, chi angles in each ncaa are: [[95.7, 143.17, -12.54]]\n",
      "After optimization, chi angles in each ncaa are: [[94.86, 141.77, -17.78]]\n",
      "After optimization, chi angles in each ncaa are: [[95.24, 141.93, -18.48]]\n",
      "After optimization, chi angles in each ncaa are: [[92.47, 144.33, -18.99]]\n",
      "TPO\n",
      "[[0, 0, 0]]\n"
     ]
    }
   ],
   "source": [
    "for i in range(5,6):\n",
    "    PDB = pdb[i]\n",
    "    NCAA = ncaa[i]\n",
    "    NUM = num[i]\n",
    "\n",
    "    nat_pdb_file = f\"../input/{PDB}.pdb\"\n",
    "    nat_angles = my.get_chi_angles(NCAA, nat_pdb_file)\n",
    "\n",
    "    num_ncaa = len(nat_angles)\n",
    "    num_chis = len(nat_angles[0])\n",
    "\n",
    "    angle_devi_abs = [[0 for i in range(num_chis)] for i in range(num_ncaa)]\n",
    "    angle_devi_con = [[0 for i in range(num_chis)] for i in range(num_ncaa)]\n",
    "\n",
    "    for i in range(1, 21):\n",
    "\n",
    "        order = \"%d\" % i\n",
    "        number = \"%d\" % NUM\n",
    "        mut_pdb_file = f\"../output/{PDB}/{PDB}_clean_{number.zfill(4)}_opt1_{order.zfill(4)}.pdb\"\n",
    "        mut_angles = my.get_chi_angles(NCAA, mut_pdb_file)\n",
    "\n",
    "        for n in range(num_ncaa):\n",
    "            max_chi_samples = 0\n",
    "            for k in range(num_chis):\n",
    "                \n",
    "                if calc_delta_angle(mut_angles[n][k], nat_angles[n][k]) <= cutoff:\n",
    "                    angle_devi_abs[n][k] = angle_devi_abs[n][k] + 1\n",
    "                    pre_chis_sample = True\n",
    "                    for j in range(k):\n",
    "                        if calc_delta_angle(mut_angles[n][j], nat_angles[n][j]) > cutoff:\n",
    "                            pre_chis_sample = False\n",
    "                            break\n",
    "                    if pre_chis_sample:\n",
    "                        angle_devi_con[n][k] = angle_devi_con[n][k] + 1\n",
    "                        max_chi_samples = (k+1) if (k+1) > max_chi_samples else max_chi_samples\n",
    "            # print(f\"ncaa:{n + 1}, hits:{max_chi_samples}\")\n",
    "\n",
    "    print(NCAA)\n",
    "    print(angle_devi_con)\n",
    "    '''\n",
    "    for i in angle_devi_con:\n",
    "        for index,j in enumerate(i):\n",
    "            if index == 0:\n",
    "                print(j/200)\n",
    "            else:\n",
    "                print(i[index]/i[index-1])\n",
    "    '''\n",
    "            "
   ]
  },
  {
   "cell_type": "code",
   "execution_count": 9,
   "metadata": {},
   "outputs": [
    {
     "output_type": "execute_result",
     "data": {
      "text/plain": [
       "'\\nfor i in range(1, 201):\\n\\n    order = \"%d\" % i\\n    mut_pdb_file = f\"../output/4BN1/4BN1_mutate_opt_0019_{order.zfill(4)}.pdb\"\\n    modi_pdb_file = f\"../input/4BN1/4BN1_mutate_opt_0019_{order.zfill(4)}.pdb\"\\n\\n    with open(mut_pdb_file, \"r\") as f_read, open(modi_pdb_file, \"w\") as f_write:\\n        lines = f_read.readlines()\\n        w_lines = []\\n\\n        for line in lines:\\n            modi_line = line\\n            if line[17:20] == \"TPO\":\\n                if line[13] == \"P\":\\n                    modi_line = line[:13] + \"PD \" + line[16:]\\n                if line[13:16] == \"O1P\":\\n                    modi_line = line[:13] + \"OE1\" + line[16:]\\n                if line[13:16] == \"O2P\":\\n                    modi_line = line[:13] + \"OE2\" + line[16:]\\n                if line[13:16] == \"O3P\":\\n                    modi_line = line[:13] + \"OE3\" + line[16:]\\n            w_lines.append(modi_line)\\n        \\n        f_write.writelines(w_lines)\\n'"
      ]
     },
     "metadata": {},
     "execution_count": 9
    }
   ],
   "source": [
    "'''\n",
    "for i in range(1, 201):\n",
    "\n",
    "    order = \"%d\" % i\n",
    "    mut_pdb_file = f\"../output/4BN1/4BN1_mutate_opt_0019_{order.zfill(4)}.pdb\"\n",
    "    modi_pdb_file = f\"../input/4BN1/4BN1_mutate_opt_0019_{order.zfill(4)}.pdb\"\n",
    "\n",
    "    with open(mut_pdb_file, \"r\") as f_read, open(modi_pdb_file, \"w\") as f_write:\n",
    "        lines = f_read.readlines()\n",
    "        w_lines = []\n",
    "\n",
    "        for line in lines:\n",
    "            modi_line = line\n",
    "            if line[17:20] == \"TPO\":\n",
    "                if line[13] == \"P\":\n",
    "                    modi_line = line[:13] + \"PD \" + line[16:]\n",
    "                if line[13:16] == \"O1P\":\n",
    "                    modi_line = line[:13] + \"OE1\" + line[16:]\n",
    "                if line[13:16] == \"O2P\":\n",
    "                    modi_line = line[:13] + \"OE2\" + line[16:]\n",
    "                if line[13:16] == \"O3P\":\n",
    "                    modi_line = line[:13] + \"OE3\" + line[16:]\n",
    "            w_lines.append(modi_line)\n",
    "        \n",
    "        f_write.writelines(w_lines)\n",
    "'''"
   ]
  },
  {
   "cell_type": "code",
   "execution_count": 8,
   "metadata": {},
   "outputs": [],
   "source": [
    "j = 163\n"
   ]
  },
  {
   "cell_type": "code",
   "execution_count": 9,
   "metadata": {},
   "outputs": [
    {
     "output_type": "stream",
     "name": "stdout",
     "text": [
      "0.815\n"
     ]
    }
   ],
   "source": [
    "print(j/200)"
   ]
  },
  {
   "cell_type": "code",
   "execution_count": null,
   "metadata": {},
   "outputs": [],
   "source": []
  }
 ]
}