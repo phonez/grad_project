{
 "metadata": {
  "language_info": {
   "codemirror_mode": {
    "name": "ipython",
    "version": 3
   },
   "file_extension": ".py",
   "mimetype": "text/x-python",
   "name": "python",
   "nbconvert_exporter": "python",
   "pygments_lexer": "ipython3",
   "version": "3.6.13-final"
  },
  "orig_nbformat": 2,
  "kernelspec": {
   "name": "python3613jvsc74a57bd05e92b11f585824c47f4c131bdd2d5cb379cf447c511d506dffea9fa3190dca51",
   "display_name": "Python 3.6.13 64-bit ('base': conda)"
  }
 },
 "nbformat": 4,
 "nbformat_minor": 2,
 "cells": [
  {
   "cell_type": "code",
   "execution_count": 1,
   "metadata": {},
   "outputs": [],
   "source": [
    "from pyrosetta import *\n"
   ]
  },
  {
   "cell_type": "code",
   "execution_count": 2,
   "metadata": {},
   "outputs": [
    {
     "output_type": "stream",
     "name": "stdout",
     "text": [
      "PyRosetta-4 2021 [Rosetta PyRosetta4.conda.linux.cxx11thread.serialization.CentOS.python36.Release 2021.11+release.e9f47978df05d6d2de96236c2d949ecf9436018a 2021-03-19T09:06:15] retrieved from: http://www.pyrosetta.org\n",
      "(C) Copyright Rosetta Commons Member Institutions. Created in JHU by Sergey Lyskov and PyRosetta Team.\n",
      "core.init: {0} Checking for fconfig files in pwd and ./rosetta/flags\n",
      "core.init: {0} Rosetta version: PyRosetta4.conda.linux.cxx11thread.serialization.CentOS.python36.Release r276 2021.11+release.e9f4797 e9f47978df05d6d2de96236c2d949ecf9436018a http://www.pyrosetta.org 2021-03-19T09:06:15\n",
      "core.init: {0} command: PyRosetta -ex1 -ex2aro -in:file:extra_res_fa /home/zhangf/grad_project/ncaa_database/params/HLX.params -database /home/zhangf/program/miniconda3/envs/py3.6/lib/python3.6/site-packages/pyrosetta/database\n",
      "basic.random.init_random_generator: {0} 'RNG device' seed mode, using '/dev/urandom', seed=-357686265 seed_offset=0 real_seed=-357686265 thread_index=0\n",
      "basic.random.init_random_generator: {0} RandomGenerator:init: Normal mode, seed=-357686265 RG_type=mt19937\n"
     ]
    }
   ],
   "source": [
    "init(extra_options=\"-in:file:extra_res_fa /home/zhangf/grad_project/ncaa_database/params/HLX.params\")\n"
   ]
  },
  {
   "cell_type": "code",
   "execution_count": 3,
   "metadata": {},
   "outputs": [
    {
     "output_type": "stream",
     "name": "stdout",
     "text": [
      "core.chemical: {0} [ WARNING ] protein residue HLX is not explicitly listed as either L or D in its params file.\n",
      "core.chemical: {0} [ WARNING ] To avoid seeing this warning in the future, add \"L_AA\", \"D_AA\", or \"ACHIRAL_BACKBONE\" to the \"PROPERTIES\" line of the params file.\n",
      "core.chemical.GlobalResidueTypeSet: {0} Finished initializing fa_standard residue type set.  Created 987 residue types\n",
      "core.chemical.GlobalResidueTypeSet: {0} Total time to initialize 3.28125 seconds.\n",
      "core.import_pose.import_pose: {0} File '/home/zhangf/grad_project/phase_02_validation/stage_03_optimization/input/4JJE_clean_inhibitor_2.pdb' automatically determined to be of type PDB\n",
      "core.io.pose_from_sfr.PoseFromSFRBuilder: {0} [ WARNING ] PDB reader is ignoring atom  CD  in residue 57 A.  Pass flag -ignore_zero_occupancy false to change this behavior\n",
      "core.conformation.Conformation: {0} [ WARNING ] missing heavyatom:  CD  on residue LYS 29\n",
      "core.conformation.Conformation: {0} [ WARNING ] missing heavyatom:  CG  on residue LYS 172\n",
      "core.conformation.Conformation: {0} [ WARNING ] missing heavyatom:  CD  on residue LYS 172\n",
      "core.conformation.Conformation: {0} [ WARNING ] missing heavyatom:  CE  on residue LYS 172\n",
      "core.conformation.Conformation: {0} [ WARNING ] missing heavyatom:  NZ  on residue LYS 172\n",
      "core.conformation.Conformation: {0} [ WARNING ] missing heavyatom:  CG  on residue LYS 186\n",
      "core.conformation.Conformation: {0} [ WARNING ] missing heavyatom:  CD  on residue LYS 186\n",
      "core.conformation.Conformation: {0} [ WARNING ] missing heavyatom:  CE  on residue LYS 186\n",
      "core.conformation.Conformation: {0} [ WARNING ] missing heavyatom:  NZ  on residue LYS 186\n",
      "core.conformation.Conformation: {0} [ WARNING ] missing heavyatom:  OXT on residue GLN:CtermProteinFull 240\n",
      "core.conformation.Conformation: {0} [ WARNING ] missing heavyatom:  OXT on residue ASP:CtermProteinFull 244\n",
      "core.pack.pack_missing_sidechains: {0} packing residue number 29 because of missing atom number 7 atom name  CD\n",
      "core.pack.pack_missing_sidechains: {0} packing residue number 172 because of missing atom number 6 atom name  CG\n",
      "core.pack.pack_missing_sidechains: {0} packing residue number 186 because of missing atom number 6 atom name  CG\n",
      "core.pack.task: {0} Packer task: initialize from command line()\n",
      "core.scoring.ScoreFunctionFactory: {0} SCOREFUNCTION: ref2015\n",
      "core.scoring.etable: {0} Starting energy table calculation\n",
      "core.scoring.etable: {0} smooth_etable: changing atr/rep split to bottom of energy well\n",
      "core.scoring.etable: {0} smooth_etable: spline smoothing lj etables (maxdis = 6)\n",
      "core.scoring.etable: {0} smooth_etable: spline smoothing solvation etables (max_dis = 6)\n",
      "core.scoring.etable: {0} Finished calculating energy tables.\n",
      "basic.io.database: {0} Database file opened: scoring/score_functions/hbonds/ref2015_params/HBPoly1D.csv\n",
      "basic.io.database: {0} Database file opened: scoring/score_functions/hbonds/ref2015_params/HBFadeIntervals.csv\n",
      "basic.io.database: {0} Database file opened: scoring/score_functions/hbonds/ref2015_params/HBEval.csv\n",
      "basic.io.database: {0} Database file opened: scoring/score_functions/hbonds/ref2015_params/DonStrength.csv\n",
      "basic.io.database: {0} Database file opened: scoring/score_functions/hbonds/ref2015_params/AccStrength.csv\n",
      "basic.io.database: {0} Database file opened: scoring/score_functions/rama/fd/all.ramaProb\n",
      "basic.io.database: {0} Database file opened: scoring/score_functions/rama/fd/prepro.ramaProb\n",
      "basic.io.database: {0} Database file opened: scoring/score_functions/omega/omega_ppdep.all.txt\n",
      "basic.io.database: {0} Database file opened: scoring/score_functions/omega/omega_ppdep.gly.txt\n",
      "basic.io.database: {0} Database file opened: scoring/score_functions/omega/omega_ppdep.pro.txt\n",
      "basic.io.database: {0} Database file opened: scoring/score_functions/omega/omega_ppdep.valile.txt\n",
      "basic.io.database: {0} Database file opened: scoring/score_functions/P_AA_pp/P_AA\n",
      "basic.io.database: {0} Database file opened: scoring/score_functions/P_AA_pp/P_AA_n\n",
      "core.scoring.P_AA: {0} shapovalov_lib::shap_p_aa_pp_smooth_level of 1( aka low_smooth ) got activated.\n",
      "basic.io.database: {0} Database file opened: scoring/score_functions/P_AA_pp/shapovalov/10deg/kappa131/a20.prop\n",
      "basic.io.database: {0} Database file opened: scoring/score_functions/elec_cp_reps.dat\n",
      "core.scoring.elec.util: {0} Read 40 countpair representative atoms\n",
      "core.pack.dunbrack.RotamerLibrary: {0} shapovalov_lib_fixes_enable option is true.\n",
      "core.pack.dunbrack.RotamerLibrary: {0} shapovalov_lib::shap_dun10_smooth_level of 1( aka lowest_smooth ) got activated.\n",
      "core.pack.dunbrack.RotamerLibrary: {0} Binary rotamer library selected: /home/zhangf/program/miniconda3/envs/py3.6/lib/python3.6/site-packages/pyrosetta/database/rotamer/shapovalov/StpDwn_0-0-0/Dunbrack10.lib.bin\n",
      "core.pack.dunbrack.RotamerLibrary: {0} Using Dunbrack library binary file '/home/zhangf/program/miniconda3/envs/py3.6/lib/python3.6/site-packages/pyrosetta/database/rotamer/shapovalov/StpDwn_0-0-0/Dunbrack10.lib.bin'.\n",
      "core.pack.dunbrack.RotamerLibrary: {0} Dunbrack 2010 library took 0.875 seconds to load from binary\n",
      "core.pack.rotamers.SingleNCAARotamerLibraryCreator: {0} [ WARNING ] AA designation B3L for NCAA rotamer library will not be obseved.\n",
      "core.pack.rotamers.SingleNCAARotamerLibraryCreator: {0} Reading in rot lib /home/zhangf/program/miniconda3/envs/py3.6/pkgs/pyrosetta-2021.11+release.e9f4797-py36_0/lib/python3.6/site-packages/pyrosetta/database/rotamer/ncaa_rotlibs/ncaa_rotamer_libraries/beta_amino_acid/B3L_30.rotlib...\n",
      "core.pack.pack_rotamers: {0} built 63 rotamers at 3 positions.\n",
      "core.pack.pack_rotamers: {0} Requesting all available threads for interaction graph computation.\n",
      "core.pack.interaction_graph.interaction_graph_factory: {0} Instantiating DensePDInteractionGraph\n",
      "basic.thread_manager.RosettaThreadManager: {?} Creating a thread pool of 1 threads.\n",
      "basic.thread_manager.RosettaThreadPool: {?} Launched 0 new threads.\n",
      "core.pack.rotamer_set.RotamerSets: {0} Completed interaction graph pre-calculation in 1 available threads (1 had been requested).\n",
      "core.import_pose.import_pose: {0} File '/home/zhangf/grad_project/phase_02_validation/stage_03_optimization/input/4JJE_clean_inhibitor_2_opt.pdb' automatically determined to be of type PDB\n"
     ]
    }
   ],
   "source": [
    "before_opt = pose_from_file(\"/home/zhangf/grad_project/phase_02_validation/stage_03_optimization/input/4JJE_clean_inhibitor_2.pdb\")\n",
    "after_opt = pose_from_file(\"/home/zhangf/grad_project/phase_02_validation/stage_03_optimization/input/4JJE_clean_inhibitor_2_opt.pdb\")\n",
    "\n"
   ]
  },
  {
   "cell_type": "code",
   "execution_count": 4,
   "metadata": {},
   "outputs": [
    {
     "output_type": "stream",
     "name": "stdout",
     "text": [
      "0.7149802446365356\n"
     ]
    }
   ],
   "source": [
    "print(pyrosetta.rosetta.core.scoring.CA_rmsd(before_opt,after_opt))\n",
    "print(pyrosetta.rosetta.core.scoring.bb_rmsd(before_opt,after_opt))\n",
    "print(pyrosetta.rosetta.core.scoring.all_atom_rmsd(before_opt,after_opt))"
   ]
  }
 ]
}