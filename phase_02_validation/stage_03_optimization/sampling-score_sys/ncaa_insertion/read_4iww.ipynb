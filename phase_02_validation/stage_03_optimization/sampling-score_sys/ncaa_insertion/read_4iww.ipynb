{
 "metadata": {
  "language_info": {
   "codemirror_mode": {
    "name": "ipython",
    "version": 3
   },
   "file_extension": ".py",
   "mimetype": "text/x-python",
   "name": "python",
   "nbconvert_exporter": "python",
   "pygments_lexer": "ipython3",
   "version": "3.6.13-final"
  },
  "orig_nbformat": 2,
  "kernelspec": {
   "name": "python3",
   "display_name": "Python 3.6.13 64-bit ('base': conda)",
   "metadata": {
    "interpreter": {
     "hash": "5e92b11f585824c47f4c131bdd2d5cb379cf447c511d506dffea9fa3190dca51"
    }
   }
  }
 },
 "nbformat": 4,
 "nbformat_minor": 2,
 "cells": [
  {
   "cell_type": "code",
   "execution_count": 2,
   "metadata": {},
   "outputs": [],
   "source": [
    "from pyrosetta import *\n",
    "from pyrosetta.rosetta.protocols.relax import FastRelax"
   ]
  },
  {
   "cell_type": "code",
   "execution_count": 3,
   "metadata": {},
   "outputs": [
    {
     "output_type": "stream",
     "name": "stdout",
     "text": [
      "PyRosetta-4 2021 [Rosetta PyRosetta4.conda.linux.cxx11thread.serialization.CentOS.python36.Release 2021.11+release.e9f47978df05d6d2de96236c2d949ecf9436018a 2021-03-19T09:06:15] retrieved from: http://www.pyrosetta.org\n",
      "(C) Copyright Rosetta Commons Member Institutions. Created in JHU by Sergey Lyskov and PyRosetta Team.\n",
      "core.init: {0} Checking for fconfig files in pwd and ./rosetta/flags\n",
      "core.init: {0} Rosetta version: PyRosetta4.conda.linux.cxx11thread.serialization.CentOS.python36.Release r276 2021.11+release.e9f4797 e9f47978df05d6d2de96236c2d949ecf9436018a http://www.pyrosetta.org 2021-03-19T09:06:15\n",
      "core.init: {0} command: PyRosetta -ex1 -ex2aro -in:file:extra_res_fa /home/zhangf/grad_project/pipeline/params/BP5.params -database /home/zhangf/program/miniconda3/envs/py3.6/lib/python3.6/site-packages/pyrosetta/database\n",
      "basic.random.init_random_generator: {0} 'RNG device' seed mode, using '/dev/urandom', seed=-2070804642 seed_offset=0 real_seed=-2070804642 thread_index=0\n",
      "basic.random.init_random_generator: {0} RandomGenerator:init: Normal mode, seed=-2070804642 RG_type=mt19937\n"
     ]
    }
   ],
   "source": [
    "init(extra_options=\"-in:file:extra_res_fa /home/zhangf/grad_project/pipeline/params/BP5.params\")\n"
   ]
  },
  {
   "cell_type": "code",
   "execution_count": 5,
   "metadata": {},
   "outputs": [
    {
     "output_type": "stream",
     "name": "stdout",
     "text": [
      "core.import_pose.import_pose: {0} File './AAAXA.pdb' automatically determined to be of type PDB\n"
     ]
    }
   ],
   "source": [
    "A_pose = pose_from_pdb(\"./AAAXA.pdb\")\n",
    "\n"
   ]
  },
  {
   "cell_type": "code",
   "execution_count": 7,
   "metadata": {},
   "outputs": [
    {
     "output_type": "stream",
     "name": "stdout",
     "text": [
      "core.pack.task: {0} Packer task: initialize from command line()\n",
      "#Packer_Task\n",
      "\n",
      "Threads to request: ALL AVAILABLE\n",
      "\n",
      "resid\tpack?\tdesign?\tallowed_aas\n",
      "1\tTRUE\tFALSE\tALA:NtermProteinFull\n",
      "2\tTRUE\tTRUE\t\n",
      "3\tTRUE\tFALSE\tALA\n",
      "4\tTRUE\tFALSE\tBP5\n",
      "5\tTRUE\tFALSE\tALA:CtermProteinFull\n",
      "\n"
     ]
    }
   ],
   "source": [
    "tf = pyrosetta.rosetta.core.pack.task.TaskFactory()\n",
    "tf.push_back(pyrosetta.rosetta.core.pack.task.operation.InitializeFromCommandline())\n",
    "tf.push_back(pyrosetta.rosetta.core.pack.task.operation.IncludeCurrent())\n",
    "tf.push_back(pyrosetta.rosetta.core.pack.task.operation.NoRepackDisulfides())\n",
    "\n",
    "resfile = \"./BP5.resfile\"\n",
    "tf.push_back(pyrosetta.rosetta.core.pack.task.operation.ReadResfile(resfile))\n",
    "packer_task = tf.create_task_and_apply_taskoperations(A_pose)\n",
    "print(packer_task)\n"
   ]
  },
  {
   "cell_type": "code",
   "execution_count": 26,
   "metadata": {},
   "outputs": [
    {
     "output_type": "error",
     "ename": "TypeError",
     "evalue": "__init__(): incompatible constructor arguments. The following argument types are supported:\n    1. pyrosetta.rosetta.core.pack.task.operation.OperateOnResidueSubset()\n    2. pyrosetta.rosetta.core.pack.task.operation.OperateOnResidueSubset(arg0: pyrosetta.rosetta.core.pack.task.operation.ResLvlTaskOperation, arg1: pyrosetta.rosetta.core.select.residue_selector.ResidueSelector)\n    3. pyrosetta.rosetta.core.pack.task.operation.OperateOnResidueSubset(: pyrosetta.rosetta.core.pack.task.operation.ResLvlTaskOperation, : pyrosetta.rosetta.core.select.residue_selector.ResidueSelector, flip_subset: bool)\n    4. pyrosetta.rosetta.core.pack.task.operation.OperateOnResidueSubset(: pyrosetta.rosetta.core.pack.task.operation.ResLvlTaskOperation, subset: pyrosetta.rosetta.utility.vector1_bool)\n    5. pyrosetta.rosetta.core.pack.task.operation.OperateOnResidueSubset(arg0: pyrosetta.rosetta.core.pack.task.operation.OperateOnResidueSubset)\n    6. pyrosetta.rosetta.core.pack.task.operation.OperateOnResidueSubset(arg0: pyrosetta.rosetta.core.pack.task.operation.OperateOnResidueSubset)\n\nInvoked with: <pyrosetta.rosetta.core.pack.task.operation.RestrictAbsentCanonicalAASExceptNativeRLT object at 0x7f6f04b0dd88>",
     "traceback": [
      "\u001b[0;31m---------------------------------------------------------------------------\u001b[0m",
      "\u001b[0;31mTypeError\u001b[0m                                 Traceback (most recent call last)",
      "\u001b[0;32m<ipython-input-26-6e0ecf293782>\u001b[0m in \u001b[0;36m<module>\u001b[0;34m\u001b[0m\n\u001b[1;32m      5\u001b[0m \u001b[0;34m\u001b[0m\u001b[0m\n\u001b[1;32m      6\u001b[0m \u001b[0mget_ipython\u001b[0m\u001b[0;34m(\u001b[0m\u001b[0;34m)\u001b[0m\u001b[0;34m.\u001b[0m\u001b[0mrun_line_magic\u001b[0m\u001b[0;34m(\u001b[0m\u001b[0;34m'pinfo'\u001b[0m\u001b[0;34m,\u001b[0m \u001b[0;34m'pyrosetta.rosetta.core.pack.task.ResidueLevelTask.restrict_nonnative_canonical_aas'\u001b[0m\u001b[0;34m)\u001b[0m\u001b[0;34m\u001b[0m\u001b[0;34m\u001b[0m\u001b[0m\n\u001b[0;32m----> 7\u001b[0;31m \u001b[0mtf\u001b[0m\u001b[0;34m.\u001b[0m\u001b[0mpush_back\u001b[0m\u001b[0;34m(\u001b[0m\u001b[0mpyrosetta\u001b[0m\u001b[0;34m.\u001b[0m\u001b[0mrosetta\u001b[0m\u001b[0;34m.\u001b[0m\u001b[0mcore\u001b[0m\u001b[0;34m.\u001b[0m\u001b[0mpack\u001b[0m\u001b[0;34m.\u001b[0m\u001b[0mtask\u001b[0m\u001b[0;34m.\u001b[0m\u001b[0moperation\u001b[0m\u001b[0;34m.\u001b[0m\u001b[0mOperateOnResidueSubset\u001b[0m\u001b[0;34m(\u001b[0m\u001b[0maa_to_design\u001b[0m\u001b[0;34m)\u001b[0m\u001b[0;34m)\u001b[0m\u001b[0;34m\u001b[0m\u001b[0;34m\u001b[0m\u001b[0m\n\u001b[0m\u001b[1;32m      8\u001b[0m \u001b[0mpacker_task\u001b[0m \u001b[0;34m=\u001b[0m \u001b[0mtf\u001b[0m\u001b[0;34m.\u001b[0m\u001b[0mcreate_task_and_apply_taskoperations\u001b[0m\u001b[0;34m(\u001b[0m\u001b[0mA_pose\u001b[0m\u001b[0;34m)\u001b[0m\u001b[0;34m\u001b[0m\u001b[0;34m\u001b[0m\u001b[0m\n\u001b[1;32m      9\u001b[0m \u001b[0mprint\u001b[0m\u001b[0;34m(\u001b[0m\u001b[0mpacker_task\u001b[0m\u001b[0;34m)\u001b[0m\u001b[0;34m\u001b[0m\u001b[0;34m\u001b[0m\u001b[0m\n",
      "\u001b[0;31mTypeError\u001b[0m: __init__(): incompatible constructor arguments. The following argument types are supported:\n    1. pyrosetta.rosetta.core.pack.task.operation.OperateOnResidueSubset()\n    2. pyrosetta.rosetta.core.pack.task.operation.OperateOnResidueSubset(arg0: pyrosetta.rosetta.core.pack.task.operation.ResLvlTaskOperation, arg1: pyrosetta.rosetta.core.select.residue_selector.ResidueSelector)\n    3. pyrosetta.rosetta.core.pack.task.operation.OperateOnResidueSubset(: pyrosetta.rosetta.core.pack.task.operation.ResLvlTaskOperation, : pyrosetta.rosetta.core.select.residue_selector.ResidueSelector, flip_subset: bool)\n    4. pyrosetta.rosetta.core.pack.task.operation.OperateOnResidueSubset(: pyrosetta.rosetta.core.pack.task.operation.ResLvlTaskOperation, subset: pyrosetta.rosetta.utility.vector1_bool)\n    5. pyrosetta.rosetta.core.pack.task.operation.OperateOnResidueSubset(arg0: pyrosetta.rosetta.core.pack.task.operation.OperateOnResidueSubset)\n    6. pyrosetta.rosetta.core.pack.task.operation.OperateOnResidueSubset(arg0: pyrosetta.rosetta.core.pack.task.operation.OperateOnResidueSubset)\n\nInvoked with: <pyrosetta.rosetta.core.pack.task.operation.RestrictAbsentCanonicalAASExceptNativeRLT object at 0x7f6f04b0dd88>"
     ]
    }
   ],
   "source": [
    "tf = pyrosetta.rosetta.core.pack.task.TaskFactory()\n",
    "tf.push_back(pyrosetta.rosetta.core.pack.task.operation.InitializeFromCommandline())\n",
    "tf.push_back(pyrosetta.rosetta.core.pack.task.operation.IncludeCurrent())\n",
    "tf.push_back(pyrosetta.rosetta.core.pack.task.operation.NoRepackDisulfides())\n",
    "\n",
    "aa_to_design = pyrosetta.rosetta.core.pack.task.O()\n",
    "tf.push_back(pyrosetta.rosetta.core.pack.task.operation.OperateOnResidueSubset(aa_to_design))\n",
    "packer_task = tf.create_task_and_apply_taskoperations(A_pose)\n",
    "print(packer_task)"
   ]
  },
  {
   "cell_type": "code",
   "execution_count": 41,
   "metadata": {},
   "outputs": [
    {
     "output_type": "stream",
     "name": "stdout",
     "text": [
      "core.scoring.ScoreFunctionFactory: {0} SCOREFUNCTION: ref2015\n",
      "core.pack.task: {0} Packer task: initialize from command line()\n",
      "core.pack.pack_rotamers: {0} built 1 rotamers at 1 positions.\n",
      "core.pack.pack_rotamers: {0} Requesting all available threads for interaction graph computation.\n",
      "core.pack.interaction_graph.interaction_graph_factory: {0} Instantiating PDInteractionGraph\n",
      "core.pack.rotamer_set.RotamerSets: {0} Completed interaction graph pre-calculation in 1 available threads (1 had been requested).\n"
     ]
    }
   ],
   "source": [
    "mutant = pyrosetta.toolbox.mutants.mutate_residue(A_pose, 2, \"A\")"
   ]
  },
  {
   "cell_type": "code",
   "execution_count": 42,
   "metadata": {},
   "outputs": [
    {
     "output_type": "stream",
     "name": "stdout",
     "text": [
      "PDB file name: ./AAAAA.pdb\nTotal residues: 5\nSequence: AAAAA\nFold tree:\nFOLD_TREE  EDGE 1 5 -1 \n"
     ]
    }
   ],
   "source": [
    "print(A_pose)"
   ]
  },
  {
   "cell_type": "code",
   "execution_count": null,
   "metadata": {},
   "outputs": [],
   "source": []
  }
 ]
}