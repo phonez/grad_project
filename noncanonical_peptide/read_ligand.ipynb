{
 "metadata": {
  "language_info": {
   "codemirror_mode": {
    "name": "ipython",
    "version": 3
   },
   "file_extension": ".py",
   "mimetype": "text/x-python",
   "name": "python",
   "nbconvert_exporter": "python",
   "pygments_lexer": "ipython3",
   "version": "3.6.13-final"
  },
  "orig_nbformat": 2,
  "kernelspec": {
   "name": "python3613jvsc74a57bd05e92b11f585824c47f4c131bdd2d5cb379cf447c511d506dffea9fa3190dca51",
   "display_name": "Python 3.6.13 64-bit ('base': conda)"
  }
 },
 "nbformat": 4,
 "nbformat_minor": 2,
 "cells": [
  {
   "cell_type": "code",
   "execution_count": 2,
   "metadata": {},
   "outputs": [],
   "source": [
    "from pyrosetta import *\n",
    "from pyrosetta.rosetta import *"
   ]
  },
  {
   "cell_type": "code",
   "execution_count": 4,
   "metadata": {},
   "outputs": [
    {
     "output_type": "stream",
     "name": "stdout",
     "text": [
      "PyRosetta-4 2021 [Rosetta PyRosetta4.conda.linux.cxx11thread.serialization.CentOS.python36.Release 2021.11+release.e9f47978df05d6d2de96236c2d949ecf9436018a 2021-03-19T09:06:15] retrieved from: http://www.pyrosetta.org\n",
      "(C) Copyright Rosetta Commons Member Institutions. Created in JHU by Sergey Lyskov and PyRosetta Team.\n",
      "core.init: {0} Checking for fconfig files in pwd and ./rosetta/flags\n",
      "core.init: {0} Rosetta version: PyRosetta4.conda.linux.cxx11thread.serialization.CentOS.python36.Release r276 2021.11+release.e9f4797 e9f47978df05d6d2de96236c2d949ecf9436018a http://www.pyrosetta.org 2021-03-19T09:06:15\n",
      "core.init: {0} command: PyRosetta -ex1 -ex2aro -in:file:extra_res_fa /home/zhangf/grad_project/pipeline/params/1MH.params /home/zhangf/grad_project/pipeline/params/A90.params /home/zhangf/grad_project/pipeline/params/HLX.params -database /home/zhangf/program/miniconda3/envs/py3.6/lib/python3.6/site-packages/pyrosetta/database\n",
      "basic.random.init_random_generator: {0} 'RNG device' seed mode, using '/dev/urandom', seed=2033038582 seed_offset=0 real_seed=2033038582 thread_index=0\n",
      "basic.random.init_random_generator: {0} RandomGenerator:init: Normal mode, seed=2033038582 RG_type=mt19937\n"
     ]
    }
   ],
   "source": [
    "init(extra_options=\"-in:file:extra_res_fa /home/zhangf/grad_project/pipeline/params/1MH.params /home/zhangf/grad_project/pipeline/params/A90.params /home/zhangf/grad_project/pipeline/params/HLX.params\")"
   ]
  },
  {
   "cell_type": "code",
   "execution_count": 6,
   "metadata": {},
   "outputs": [
    {
     "output_type": "stream",
     "name": "stdout",
     "text": [
      "core.import_pose.import_pose: {0} File '/home/zhangf/grad_project/noncanonical_peptide/ModelFromOriginComplex/input/4JJE_clean.pdb' automatically determined to be of type PDB\n",
      "core.io.pose_from_sfr.PoseFromSFRBuilder: {0} [ WARNING ] PDB reader is ignoring atom  CD  in residue 57 A.  Pass flag -ignore_zero_occupancy false to change this behavior\n",
      "core.conformation.Conformation: {0} [ WARNING ] missing heavyatom:  CD  on residue LYS 29\n",
      "core.conformation.Conformation: {0} [ WARNING ] missing heavyatom:  CG  on residue LYS 172\n",
      "core.conformation.Conformation: {0} [ WARNING ] missing heavyatom:  CD  on residue LYS 172\n",
      "core.conformation.Conformation: {0} [ WARNING ] missing heavyatom:  CE  on residue LYS 172\n",
      "core.conformation.Conformation: {0} [ WARNING ] missing heavyatom:  NZ  on residue LYS 172\n",
      "core.conformation.Conformation: {0} [ WARNING ] missing heavyatom:  CG  on residue LYS 186\n",
      "core.conformation.Conformation: {0} [ WARNING ] missing heavyatom:  CD  on residue LYS 186\n",
      "core.conformation.Conformation: {0} [ WARNING ] missing heavyatom:  CE  on residue LYS 186\n",
      "core.conformation.Conformation: {0} [ WARNING ] missing heavyatom:  NZ  on residue LYS 186\n",
      "core.conformation.Conformation: {0} [ WARNING ] missing heavyatom:  OXT on residue GLN:CtermProteinFull 240\n",
      "core.conformation.Conformation: {0} [ WARNING ] missing heavyatom:  OXT on residue ASP:CtermProteinFull 245\n",
      "core.pack.pack_missing_sidechains: {0} packing residue number 29 because of missing atom number 7 atom name  CD\n",
      "core.pack.pack_missing_sidechains: {0} packing residue number 172 because of missing atom number 6 atom name  CG\n",
      "core.pack.pack_missing_sidechains: {0} packing residue number 186 because of missing atom number 6 atom name  CG\n",
      "core.pack.task: {0} Packer task: initialize from command line()\n",
      "core.scoring.ScoreFunctionFactory: {0} SCOREFUNCTION: ref2015\n",
      "core.pack.pack_rotamers: {0} built 63 rotamers at 3 positions.\n",
      "core.pack.pack_rotamers: {0} Requesting all available threads for interaction graph computation.\n",
      "core.pack.interaction_graph.interaction_graph_factory: {0} Instantiating DensePDInteractionGraph\n",
      "core.pack.rotamer_set.RotamerSets: {0} Completed interaction graph pre-calculation in 1 available threads (1 had been requested).\n",
      "core.import_pose.import_pose: {0} File '/home/zhangf/grad_project/noncanonical_peptide/ModelFromOriginComplex/output/4JJE_clean_relax.pdb' automatically determined to be of type PDB\n"
     ]
    }
   ],
   "source": [
    "pose_before_relax = pose_from_file(\"/home/zhangf/grad_project/noncanonical_peptide/ModelFromOriginComplex/input/4JJE_clean.pdb\")\n",
    "pose_after_relax = pose_from_file(\"/home/zhangf/grad_project/noncanonical_peptide/ModelFromOriginComplex/output/4JJE_clean_relax.pdb\")\n",
    "\n"
   ]
  },
  {
   "cell_type": "code",
   "execution_count": 8,
   "metadata": {},
   "outputs": [
    {
     "output_type": "stream",
     "name": "stdout",
     "text": [
      "1.2230948209762573\n1.06855046749115\n1.0619559288024902\n"
     ]
    }
   ],
   "source": [
    "print(pyrosetta.rosetta.core.scoring.all_atom_rmsd(pose_before_relax,pose_after_relax))\n",
    "print(pyrosetta.rosetta.core.scoring.CA_rmsd(pose_before_relax,pose_after_relax))\n",
    "print(pyrosetta.rosetta.core.scoring.bb_rmsd(pose_before_relax,pose_after_relax))"
   ]
  },
  {
   "cell_type": "code",
   "execution_count": 15,
   "metadata": {},
   "outputs": [
    {
     "output_type": "stream",
     "name": "stdout",
     "text": [
      "core.import_pose.import_pose: {0} File '/home/zhangf/grad_project/noncanonical_peptide/ModelFromOriginComplex/input/4JJE_clean_inhibitor_2.pdb' automatically determined to be of type PDB\n",
      "core.io.pose_from_sfr.PoseFromSFRBuilder: {0} [ WARNING ] PDB reader is ignoring atom  CD  in residue 57 A.  Pass flag -ignore_zero_occupancy false to change this behavior\n",
      "core.conformation.Conformation: {0} [ WARNING ] missing heavyatom:  CD  on residue LYS 29\n",
      "core.conformation.Conformation: {0} [ WARNING ] missing heavyatom:  CG  on residue LYS 172\n",
      "core.conformation.Conformation: {0} [ WARNING ] missing heavyatom:  CD  on residue LYS 172\n",
      "core.conformation.Conformation: {0} [ WARNING ] missing heavyatom:  CE  on residue LYS 172\n",
      "core.conformation.Conformation: {0} [ WARNING ] missing heavyatom:  NZ  on residue LYS 172\n",
      "core.conformation.Conformation: {0} [ WARNING ] missing heavyatom:  CG  on residue LYS 186\n",
      "core.conformation.Conformation: {0} [ WARNING ] missing heavyatom:  CD  on residue LYS 186\n",
      "core.conformation.Conformation: {0} [ WARNING ] missing heavyatom:  CE  on residue LYS 186\n",
      "core.conformation.Conformation: {0} [ WARNING ] missing heavyatom:  NZ  on residue LYS 186\n",
      "core.conformation.Conformation: {0} [ WARNING ] missing heavyatom:  OXT on residue GLN:CtermProteinFull 240\n",
      "core.conformation.Conformation: {0} [ WARNING ] missing heavyatom:  OXT on residue ASP:CtermProteinFull 244\n",
      "core.pack.pack_missing_sidechains: {0} packing residue number 29 because of missing atom number 7 atom name  CD\n",
      "core.pack.pack_missing_sidechains: {0} packing residue number 172 because of missing atom number 6 atom name  CG\n",
      "core.pack.pack_missing_sidechains: {0} packing residue number 186 because of missing atom number 6 atom name  CG\n",
      "core.pack.task: {0} Packer task: initialize from command line()\n",
      "core.scoring.ScoreFunctionFactory: {0} SCOREFUNCTION: ref2015\n",
      "core.pack.pack_rotamers: {0} built 63 rotamers at 3 positions.\n",
      "core.pack.pack_rotamers: {0} Requesting all available threads for interaction graph computation.\n",
      "core.pack.interaction_graph.interaction_graph_factory: {0} Instantiating DensePDInteractionGraph\n",
      "core.pack.rotamer_set.RotamerSets: {0} Completed interaction graph pre-calculation in 1 available threads (1 had been requested).\n"
     ]
    }
   ],
   "source": [
    "inhibitor_2 = pose_from_file(\"/home/zhangf/grad_project/noncanonical_peptide/ModelFromOriginComplex/input/4JJE_clean_inhibitor_2.pdb\")"
   ]
  },
  {
   "cell_type": "code",
   "execution_count": 27,
   "metadata": {},
   "outputs": [
    {
     "output_type": "stream",
     "name": "stdout",
     "text": [
      "Residue 243: 1MH (1MH, X):\nBase: 1MH\n Properties: POLYMER PROTEIN L_AA\n Variant types:\n Main-chain atoms:  N    CA   C  \n Backbone atoms:    N    CA   C    O    H    HA \n Side-chain atoms:  CB   CG   CD1  CD2  NE1  CE2  CZ  1HB  2HB  1HD1 1HD2 1HE2 1HZ \nAtom Coordinates:\n   N  : 38.194, 9.891, 69.095\n   CA : 38.033, 9.975, 67.648\n   C  : 36.721, 9.301, 67.318\n   O  : 36.5393, 8.73906, 66.2416\n   CB : 39.2443, 9.41985, 66.8474\n   CG : 39.6315, 8.01853, 67.2557\n   CD1: 40.5711, 7.29927, 66.5072\n   CD2: 39.0547, 7.36823, 68.3533\n   NE1: 40.947, 6.04165, 66.7641\n   CE2: 39.438, 6.06033, 68.6383\n   CZ : 40.3811, 5.44043, 67.8168\n   H  : 38.295, 8.95614, 69.4798\n   HA : 37.9174, 11.0352, 67.4029\n  1HB : 38.9676, 9.41739, 65.7882\n  2HB : 40.0924, 10.1003, 66.969\n  1HD1: 41.0533, 7.77334, 65.6512\n  1HD2: 38.3179, 7.8909, 68.9547\n  1HE2: 39.0135, 5.5265, 69.4835\n  1HZ : 40.6976, 4.41723, 68.0114\nMirrored relative to coordinates in ResidueType: FALSE\n\n"
     ]
    }
   ],
   "source": [
    "MutateResidue = pyrosetta.rosetta.protocols.simple_moves.MutateResidue\n",
    "MutateResidue(target=243, new_res=\"1MH\").apply(inhibitor_2)\n",
    "\n",
    "tf = pyrosetta.rosetta.core.pack.task.TaskFactory()\n",
    "\n",
    "tf.push_back(pyrosetta.rosetta.core.pack.task.operation.InitializeFromCommandline())\n",
    "tf.push_back(pyrosetta.rosetta.core.pack.task.operation.IncludeCurrent())\n",
    "tf.push_back(pyrosetta.rosetta.core.pack.task.operation.ReadResfile(\"/home/zhangf/grad_project/noncanonical_peptide/ModelFromOriginComplex/input/mutate_2_to_4.resfile\"))\n",
    "\n",
    "packer_task = tf.create_task_and_apply_taskoperations(inhibitor_2)\n",
    "print(packer_task)\n",
    "\n"
   ]
  },
  {
   "cell_type": "code",
   "execution_count": 26,
   "metadata": {},
   "outputs": [
    {
     "output_type": "execute_result",
     "data": {
      "text/plain": [
       "True"
      ]
     },
     "metadata": {},
     "execution_count": 26
    }
   ],
   "source": []
  },
  {
   "cell_type": "code",
   "execution_count": null,
   "metadata": {},
   "outputs": [],
   "source": []
  }
 ]
}