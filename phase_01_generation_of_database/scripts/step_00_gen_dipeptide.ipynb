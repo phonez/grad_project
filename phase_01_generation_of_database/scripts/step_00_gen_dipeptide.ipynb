{
 "metadata": {
  "language_info": {
   "codemirror_mode": {
    "name": "ipython",
    "version": 3
   },
   "file_extension": ".py",
   "mimetype": "text/x-python",
   "name": "python",
   "nbconvert_exporter": "python",
   "pygments_lexer": "ipython3",
   "version": "3.6"
  },
  "orig_nbformat": 2,
  "kernelspec": {
   "name": "pythonjvsc74a57bd05e92b11f585824c47f4c131bdd2d5cb379cf447c511d506dffea9fa3190dca51",
   "display_name": "Python 3.6  ('base': conda)"
  },
  "metadata": {
   "interpreter": {
    "hash": "5e92b11f585824c47f4c131bdd2d5cb379cf447c511d506dffea9fa3190dca51"
   }
  }
 },
 "nbformat": 4,
 "nbformat_minor": 2,
 "cells": [
  {
   "cell_type": "code",
   "execution_count": 1,
   "metadata": {},
   "outputs": [],
   "source": [
    "# Convert ncaa to \"dipeptide\", with name (ncaa_entry) and smiles as input.\n",
    "\n",
    "# an example\n",
    "[ncaa_entry, smiles] = [\"BP5\", \"c1ccnc(c1)c2ccc(cn2)C[C@@H](C(=O)O)N\"] \n",
    "ncaa_info = []\n",
    "ncaa_info.append([ncaa_entry, smiles])"
   ]
  },
  {
   "cell_type": "code",
   "execution_count": 3,
   "metadata": {},
   "outputs": [],
   "source": [
    "# add NME and ACE\n",
    "from rdkit import Chem\n",
    "from rdkit.Chem import Draw\n",
    "from rdkit.Chem import AllChem\n",
    "\n",
    "modified_ncaa_mols = []\n",
    "\n",
    "dipep_bb_mol = Chem.MolFromSmarts(\"CC(=O)NCC(=O)NC\")\n",
    "nme_mol = Chem.MolFromSmiles(\"C(=O)NC\")\n",
    "ace_mol = Chem.MolFromSmiles(\"NC(=O)C\")\n",
    "amino_mol = Chem.MolFromSmarts(\"N\")\n",
    "acid_mol = Chem.MolFromSmarts(\"C(=O)O\")\n",
    "\n",
    "for ncaa_entry, smiles in ncaa_info:\n",
    "    ncaa_mol = Chem.MolFromSmiles(smiles)\n",
    "    add_nme_mols = AllChem.ReplaceSubstructs(ncaa_mol, acid_mol, nme_mol, useChirality=True)\n",
    "    for mol_1 in add_nme_mols:\n",
    "        add_ace_mols = AllChem.ReplaceSubstructs(mol_1, amino_mol, ace_mol, useChirality=True)  \n",
    "        for mol_2 in add_ace_mols:\n",
    "            if mol_2.HasSubstructMatch(dipep_bb_mol):\n",
    "                Chem.SanitizeMol(mol_2)\n",
    "                modified_ncaa_mols.append([mol_2, ncaa_entry])\n",
    "\n",
    "### check structure, because this script is not compatible with a few cases ###\n",
    "# image = Draw.MolsToGridImage([x[0] for x in modified_ncaa_mols], molsPerRow=3, subImgSize=(300,300), legends=[x[1] for x in modified_ncaa_mols], returnPNG=False, maxMols=100)\n",
    "# image"
   ]
  },
  {
   "cell_type": "code",
   "execution_count": 4,
   "metadata": {},
   "outputs": [],
   "source": [
    "# 2D to 3D\n",
    "mol_path = \"../input/mol/\"\n",
    "for mol, ncaa_entry in modified_ncaa_mols:\n",
    "    mol = Chem.AddHs(mol)\n",
    "    AllChem.EmbedMolecule(mol)\n",
    "    AllChem.EmbedMultipleConfs(mol, numConfs=50)\n",
    "    AllChem.MMFFOptimizeMoleculeConfs(mol, numThreads=0)\n",
    "\n",
    "    mol.SetProp(\"_Name\", ncaa_entry)\n",
    "    ncaa_file = mol_path + ncaa_entry + \".mol\"\n",
    "    print(Chem.MolToMolBlock(mol), file=open(ncaa_file, 'w+'))"
   ]
  }
 ]
}